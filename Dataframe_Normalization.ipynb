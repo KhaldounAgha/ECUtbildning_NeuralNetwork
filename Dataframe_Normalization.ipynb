{
 "cells": [
  {
   "cell_type": "markdown",
   "id": "57b4bde2-dcea-4245-a311-a5a01ff2c195",
   "metadata": {},
   "source": [
    "**Dataframe Normalization Techniques in Python**"
   ]
  },
  {
   "cell_type": "raw",
   "id": "80df7366-b9e3-42a1-b7bc-e443f2c9fe69",
   "metadata": {},
   "source": [
    "Dataframe normalization in Python is a technique for scaling numeric columns in a pandas DataFrame to a common range. This is often done in preparation for machine learning tasks where features need to be on a similar scale to ensure algorithms process them effectively.\n",
    "There are two main approaches to normalization in Python:\n",
    "    1.\tMin-Max scaling: This method scales each feature in the DataFrame to a range of 0 to 1. \n",
    "    You can achieve this using the MinMaxScaler class from the scikit-learn library.\n",
    "    2.\tStandard scaling: This method transforms each feature to have a mean of 0 and a standard deviation of 1. \n",
    "    The StandardScaler class from scikit-learn can be used for this purpose.\n",
    "Both techniques can improve the performance of machine learning algorithms by placing features on an equal footing."
   ]
  },
  {
   "cell_type": "code",
   "execution_count": 28,
   "id": "802a299f-cb32-41e4-83a9-c78a7c5c4793",
   "metadata": {},
   "outputs": [],
   "source": [
    "import pandas as pd\n",
    "from sklearn.preprocessing import MinMaxScaler, StandardScaler"
   ]
  },
  {
   "cell_type": "code",
   "execution_count": 29,
   "id": "cdb50fad-8b92-412d-83c2-36854677a05d",
   "metadata": {},
   "outputs": [],
   "source": [
    "# Create a sample DataFrame\n",
    "data = {'age': [25, 22, 34, 55, 39], 'salary': [28000, 32000, 18000, 29000, 26000]}\n",
    "df = pd.DataFrame(data)"
   ]
  },
  {
   "cell_type": "markdown",
   "id": "660bd8fb-3173-4b78-a77b-4b452698ff65",
   "metadata": {},
   "source": [
    "**Min-Max Scaling with scikit-learn**"
   ]
  },
  {
   "cell_type": "code",
   "execution_count": 30,
   "id": "24a68c5c-8ff7-4a31-b763-332eeffcec0a",
   "metadata": {},
   "outputs": [
    {
     "name": "stdout",
     "output_type": "stream",
     "text": [
      "Original DataFrame:\n",
      "   age  salary\n",
      "0   25   28000\n",
      "1   22   32000\n",
      "2   34   18000\n",
      "3   55   29000\n",
      "4   39   26000\n",
      "\n",
      "MinMax Scaled DataFrame:\n",
      "        age    salary\n",
      "0  0.090909  0.714286\n",
      "1  0.000000  1.000000\n",
      "2  0.363636  0.000000\n",
      "3  1.000000  0.785714\n",
      "4  0.515152  0.571429\n"
     ]
    }
   ],
   "source": [
    "# Create the MinMaxScaler object\n",
    "scaler = MinMaxScaler()\n",
    "\n",
    "# Scale the features in the DataFrame\n",
    "minmax_scaled_df = scaler.fit_transform(df)\n",
    "\n",
    "# Print the original and scaled DataFrames\n",
    "print(\"Original DataFrame:\")\n",
    "print(df)\n",
    "print(\"\\nMinMax Scaled DataFrame:\")\n",
    "print(pd.DataFrame(minmax_scaled_df, columns=df.columns))"
   ]
  },
  {
   "cell_type": "markdown",
   "id": "cbb97c20-07ef-4295-a718-08d394169f5c",
   "metadata": {},
   "source": [
    "**Standard Scaling with scikit-learn***"
   ]
  },
  {
   "cell_type": "code",
   "execution_count": 31,
   "id": "72aa6d22-7004-47b4-9dbe-95ed03775f44",
   "metadata": {},
   "outputs": [
    {
     "name": "stdout",
     "output_type": "stream",
     "text": [
      "Original DataFrame:\n",
      "   age  salary\n",
      "0   25   28000\n",
      "1   22   32000\n",
      "2   34   18000\n",
      "3   55   29000\n",
      "4   39   26000\n",
      "\n",
      "Standard Scaled DataFrame:\n",
      "        age    salary\n",
      "0 -0.853735  0.296866\n",
      "1 -1.109855  1.145055\n",
      "2 -0.085373 -1.823606\n",
      "3  1.707469  0.508913\n",
      "4  0.341494 -0.127228\n"
     ]
    }
   ],
   "source": [
    "# Create the StandardScaler object\n",
    "scaler = StandardScaler()\n",
    "\n",
    "# Scale the features in the DataFrame\n",
    "standard_scaled_df = scaler.fit_transform(df)\n",
    "\n",
    "# Print the original and scaled DataFrames\n",
    "print(\"Original DataFrame:\")\n",
    "print(df)\n",
    "print(\"\\nStandard Scaled DataFrame:\")\n",
    "print(pd.DataFrame(standard_scaled_df, columns=df.columns))"
   ]
  },
  {
   "cell_type": "markdown",
   "id": "48b4ed29-8a8d-4f12-bf4d-bea4662bc287",
   "metadata": {},
   "source": [
    "**Notes**"
   ]
  },
  {
   "cell_type": "raw",
   "id": "ecb4b7d3-e42b-4273-bbee-6763084594ce",
   "metadata": {},
   "source": [
    "Choosing the right technique:\n",
    "Min-Max scaling is a good choice if you know the range of your data beforehand and want to ensure all features fall within a specific range (e.g., 0 to 1).\n",
    "Standard scaling is a good choice when the distribution of your data is important and you want to avoid features with larger scales dominating the model."
   ]
  },
  {
   "cell_type": "code",
   "execution_count": 32,
   "id": "0a4a1943-4e2e-453c-8940-d6453f98f78d",
   "metadata": {},
   "outputs": [
    {
     "name": "stdout",
     "output_type": "stream",
     "text": [
      "Original DataFrame:\n",
      "   age\n",
      "0   25\n",
      "1   30\n",
      "2   42\n",
      "3   22\n",
      "4   55\n",
      "\n",
      "DataFrame with 'age' scaled:\n",
      "   age_scaled\n",
      "0   -0.719151\n",
      "1   -0.352237\n",
      "2    0.528356\n",
      "3   -0.939299\n",
      "4    1.482332\n"
     ]
    }
   ],
   "source": [
    "import pandas as pd\n",
    "\n",
    "# Create a sample DataFrame\n",
    "data = {'age': [25, 30, 42, 22, 55]}\n",
    "df = pd.DataFrame(data)\n",
    "\n",
    "# Calculate mean and standard deviation of 'age'\n",
    "mean = df['age'].mean()\n",
    "std = df['age'].std()\n",
    "\n",
    "df_scaled = pd.DataFrame()\n",
    "# Apply Standard scaling formula to 'age'\n",
    "df_scaled['age_scaled'] = (df['age'] - mean) / std\n",
    "\n",
    "# Print the original and scaled DataFrames\n",
    "print(\"Original DataFrame:\")\n",
    "print(df)\n",
    "\n",
    "print(\"\\nDataFrame with 'age' scaled:\")\n",
    "print(df_scaled)"
   ]
  },
  {
   "cell_type": "markdown",
   "id": "7b1e0592-fd87-4515-aade-91708e3a8650",
   "metadata": {},
   "source": [
    "**Important 1**"
   ]
  },
  {
   "cell_type": "raw",
   "id": "726a8f38-a360-4037-a03c-eb01320c7653",
   "metadata": {},
   "source": [
    "StandardScaler works on all features (columns) in the DataFrame, not just a single column. \n",
    "By passing the entire DataFrame, all features are scaled together.\n",
    "This will output the scaled DataFrame where all features (age and salary for example) are transformed with standard scaling."
   ]
  },
  {
   "cell_type": "raw",
   "id": "c73bfcd2-ae30-4f37-9226-5f1773467612",
   "metadata": {},
   "source": [
    "One way to work with StandardScaler on a single column in your DataFrame:"
   ]
  },
  {
   "cell_type": "code",
   "execution_count": 33,
   "id": "92300e05-2e4b-498f-a8d6-16a0be3f5f4c",
   "metadata": {},
   "outputs": [
    {
     "name": "stdout",
     "output_type": "stream",
     "text": [
      "Original Age:\n",
      "0    25\n",
      "1    22\n",
      "2    34\n",
      "3    55\n",
      "4    39\n",
      "Name: age, dtype: int64\n",
      "\n",
      "Scaled Age:\n",
      "[[-0.85373472]\n",
      " [-1.10985514]\n",
      " [-0.08537347]\n",
      " [ 1.70746944]\n",
      " [ 0.34149389]]\n"
     ]
    }
   ],
   "source": [
    "# Create a sample DataFrame\n",
    "data = {'age': [25, 22, 34, 55, 39], 'salary': [28000, 32000, 18000, 29000, 26000]}\n",
    "df = pd.DataFrame(data)\n",
    "\n",
    "# Select the 'age' column as a DataFrame\n",
    "age_df = df[['age']]\n",
    "\n",
    "# Create and fit the scaler on the 'age' DataFrame\n",
    "scaler = StandardScaler()\n",
    "scaled_age = scaler.fit_transform(age_df)\n",
    "\n",
    "# Print the original and scaled age (notice it's a DataFrame now)\n",
    "print(\"Original Age:\")\n",
    "print(df['age'])\n",
    "print(\"\\nScaled Age:\")\n",
    "print(scaled_age)"
   ]
  },
  {
   "cell_type": "markdown",
   "id": "d23e5fec-2d94-4764-b967-9d8987e70ccf",
   "metadata": {},
   "source": [
    "**Important 2**"
   ]
  },
  {
   "cell_type": "code",
   "execution_count": 37,
   "id": "67ff5bef-5f33-4ff2-a9e8-7bfcb5b2863b",
   "metadata": {},
   "outputs": [
    {
     "name": "stdout",
     "output_type": "stream",
     "text": [
      "Original DataFrame:\n",
      "   age\n",
      "0   25\n",
      "1   22\n",
      "2   34\n",
      "3   55\n",
      "4   39\n",
      "\n",
      "Scaled Age\n",
      "0   -0.763604\n",
      "1   -0.992685\n",
      "2   -0.076360\n",
      "3    1.527207\n",
      "4    0.305441\n",
      "Name: age, dtype: float64\n"
     ]
    }
   ],
   "source": [
    "# Create a sample DataFrame\n",
    "data = {'age': [25, 22, 34, 55, 39]}\n",
    "df = pd.DataFrame(data)\n",
    "\n",
    "# Calculate mean and standard deviation of 'age'\n",
    "mean = df['age'].mean()\n",
    "std = df['age'].std()\n",
    "\n",
    "# Apply Standard scaling formula to 'age'\n",
    "df_age_scaled = (df['age'] - mean) / std\n",
    "\n",
    "# Print the original and scaled DataFrames\n",
    "print(\"Original DataFrame:\")\n",
    "print(df)\n",
    "print(\"\\nScaled Age\")\n",
    "print(df_age_scaled)"
   ]
  },
  {
   "cell_type": "raw",
   "id": "862f0393-009e-4c47-9406-81254bfcf1fd",
   "metadata": {},
   "source": [
    "The discrepancy between the results of the two approaches is due to the difference in the calculation methods for the standard deviation (std) between the pandas library and scikit-learn's StandardScaler."
   ]
  },
  {
   "cell_type": "raw",
   "id": "1c50d069-f941-475d-905f-0364a3a565dd",
   "metadata": {},
   "source": [
    "Pandas Calculation\n",
    "By default, pandas uses a sample standard deviation, which means it uses n−1n-1n−1 (Bessel's correction) in the denominator. This is appropriate for sample data.\n",
    "Sample Standard Deviation (Bessel's correction, n−1)"
   ]
  },
  {
   "cell_type": "raw",
   "id": "9736bb6c-a044-414c-b7fd-9565bb0767aa",
   "metadata": {},
   "source": [
    "StandardScaler Calculation\n",
    "scikit-learn's StandardScaler uses the population standard deviation, which uses nnn in the denominator. This is appropriate for the whole population data.\n",
    "Population Standard Deviation (no Bessel's correction, n)"
   ]
  },
  {
   "cell_type": "code",
   "execution_count": null,
   "id": "6afa8bcf-c0af-401c-87f2-edd1b2c26520",
   "metadata": {},
   "outputs": [],
   "source": []
  }
 ],
 "metadata": {
  "kernelspec": {
   "display_name": "Python 3 (ipykernel)",
   "language": "python",
   "name": "python3"
  },
  "language_info": {
   "codemirror_mode": {
    "name": "ipython",
    "version": 3
   },
   "file_extension": ".py",
   "mimetype": "text/x-python",
   "name": "python",
   "nbconvert_exporter": "python",
   "pygments_lexer": "ipython3",
   "version": "3.12.2"
  }
 },
 "nbformat": 4,
 "nbformat_minor": 5
}
