{
 "cells": [
  {
   "cell_type": "code",
   "execution_count": 14,
   "id": "720d68aa-b857-4a17-adaf-57de2acdd050",
   "metadata": {},
   "outputs": [],
   "source": [
    "from zipfile import ZipFile"
   ]
  },
  {
   "cell_type": "code",
   "execution_count": 15,
   "id": "8bf72d62-1bc4-46be-9c3a-921683b6ba6b",
   "metadata": {},
   "outputs": [],
   "source": [
    "file_path = 'my_files.zip'"
   ]
  },
  {
   "cell_type": "code",
   "execution_count": 16,
   "id": "336ad745-1a82-47f8-aa8f-445c790e832d",
   "metadata": {},
   "outputs": [
    {
     "name": "stdout",
     "output_type": "stream",
     "text": [
      "Extraction Done\n"
     ]
    }
   ],
   "source": [
    "with zipfile.ZipFile(file_path, mode='r') as extraction_task:\n",
    "    extraction_task.extractall()\n",
    "    print('Extraction Done')"
   ]
  }
 ],
 "metadata": {
  "kernelspec": {
   "display_name": "Python 3 (ipykernel)",
   "language": "python",
   "name": "python3"
  },
  "language_info": {
   "codemirror_mode": {
    "name": "ipython",
    "version": 3
   },
   "file_extension": ".py",
   "mimetype": "text/x-python",
   "name": "python",
   "nbconvert_exporter": "python",
   "pygments_lexer": "ipython3",
   "version": "3.12.2"
  }
 },
 "nbformat": 4,
 "nbformat_minor": 5
}
